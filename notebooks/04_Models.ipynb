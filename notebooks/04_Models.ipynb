{
 "cells": [
  {
   "cell_type": "markdown",
   "metadata": {},
   "source": [
    "# Chapter 4: Models\n",
    "\n",
    "See also [Writing your first Django app, part 2](https://docs.djangoproject.com/en/5.0/intro/tutorial02/).\n",
    "\n",
    "## Database setup"
   ]
  },
  {
   "cell_type": "markdown",
   "metadata": {},
   "source": [
    "Database settings in `settings.py`:"
   ]
  },
  {
   "cell_type": "code",
   "execution_count": null,
   "metadata": {},
   "outputs": [],
   "source": [
    "DATABASES = {\n",
    "    'default': {\n",
    "        'ENGINE': 'django.db.backends.sqlite3',\n",
    "        'NAME': BASE_DIR / 'db.sqlite3',\n",
    "    }\n",
    "}"
   ]
  },
  {
   "cell_type": "markdown",
   "metadata": {},
   "source": [
    "Run initial migrations:"
   ]
  },
  {
   "cell_type": "raw",
   "metadata": {
    "vscode": {
     "languageId": "raw"
    }
   },
   "source": [
    "$ python3 manage.py migrate"
   ]
  },
  {
   "cell_type": "markdown",
   "metadata": {},
   "source": [
    "Create superuser:"
   ]
  },
  {
   "cell_type": "raw",
   "metadata": {
    "vscode": {
     "languageId": "raw"
    }
   },
   "source": [
    "$ python manage.py createsuperuser"
   ]
  },
  {
   "cell_type": "markdown",
   "metadata": {},
   "source": [
    "## Creating a simple model\n",
    "\n",
    "Create model `Post` in `models.py`:"
   ]
  },
  {
   "cell_type": "code",
   "execution_count": null,
   "metadata": {},
   "outputs": [],
   "source": [
    "from django.db import models\n",
    "\n",
    "# Create your models here.\n",
    "\n",
    "class Post(models.Model):\n",
    "    title = models.CharField(max_length=100)\n",
    "    text = models.TextField(max_length=1000)"
   ]
  },
  {
   "cell_type": "markdown",
   "metadata": {},
   "source": [
    "Register model in `admin.py`:"
   ]
  },
  {
   "cell_type": "code",
   "execution_count": null,
   "metadata": {},
   "outputs": [],
   "source": [
    "from django.contrib import admin\n",
    "\n",
    "from .models import Post\n",
    "\n",
    "# Register your models here.\n",
    "\n",
    "admin.site.register(Post)"
   ]
  },
  {
   "cell_type": "markdown",
   "metadata": {},
   "source": [
    "Create and execute migrations."
   ]
  },
  {
   "cell_type": "raw",
   "metadata": {
    "vscode": {
     "languageId": "raw"
    }
   },
   "source": [
    "$ python manage.py makemigrations chp04_models\n",
    "$ python manage.py migrate"
   ]
  },
  {
   "cell_type": "markdown",
   "metadata": {},
   "source": [
    "Start development server"
   ]
  },
  {
   "cell_type": "raw",
   "metadata": {
    "vscode": {
     "languageId": "raw"
    }
   },
   "source": [
    "$ python manage.py runserver"
   ]
  },
  {
   "cell_type": "markdown",
   "metadata": {},
   "source": [
    "Explore admin interface at http://localhost:8000/admin"
   ]
  },
  {
   "cell_type": "markdown",
   "metadata": {},
   "source": [
    "## Showing data in views\n",
    "\n",
    "Create new function in `views.py`:"
   ]
  },
  {
   "cell_type": "code",
   "execution_count": null,
   "metadata": {},
   "outputs": [],
   "source": [
    "from django.shortcuts import render\n",
    "\n",
    "from .models import Post # NEW\n",
    "\n",
    "# Create your views here.\n",
    "\n",
    "def ex01_post_list(request):\n",
    "    return render(\n",
    "        request,\n",
    "        'chp04/ex01_post_list.html'\n",
    "        )"
   ]
  },
  {
   "cell_type": "markdown",
   "metadata": {},
   "source": [
    "Add a new path in `urls.py`:"
   ]
  },
  {
   "cell_type": "code",
   "execution_count": null,
   "metadata": {},
   "outputs": [],
   "source": [
    "from django.urls import path\n",
    "\n",
    "from chp04_models import views # NEW\n",
    "\n",
    "urlpatterns = [\n",
    "    path( # NEW\n",
    "        'posts/',\n",
    "        views.ex01_post_list,\n",
    "        name='ex01_post_list'\n",
    "        ),\n",
    "]"
   ]
  },
  {
   "cell_type": "markdown",
   "metadata": {},
   "source": [
    "Add context to `ex01_list_posts` view in `views.py`:"
   ]
  },
  {
   "cell_type": "code",
   "execution_count": null,
   "metadata": {},
   "outputs": [],
   "source": [
    "def ex01_list_posts(request):\n",
    "    context = { # NEW\n",
    "        'posts_list': []\n",
    "    }\n",
    "    return render(\n",
    "        request,\n",
    "        'chp04/ex01_post_list.html',\n",
    "        context # NEW\n",
    "        )"
   ]
  },
  {
   "cell_type": "markdown",
   "metadata": {},
   "source": [
    "Import `Post` model in `views.py`:"
   ]
  },
  {
   "cell_type": "code",
   "execution_count": null,
   "metadata": {},
   "outputs": [],
   "source": [
    "from django.shortcuts import render\n",
    "\n",
    "from .models import Post # NEW\n",
    "\n",
    "# ..."
   ]
  },
  {
   "cell_type": "markdown",
   "metadata": {},
   "source": [
    "Load posts from database in `views.py`:"
   ]
  },
  {
   "cell_type": "code",
   "execution_count": null,
   "metadata": {},
   "outputs": [],
   "source": [
    "def ex01_list_posts(request):\n",
    "    posts = Post.objects.all() # NEW\n",
    "    context = {\n",
    "        'posts_list': posts # NEW\n",
    "    }\n",
    "    return render(\n",
    "        request,\n",
    "        'chp04/ex01_post_list.html',\n",
    "        context\n",
    "        )"
   ]
  },
  {
   "cell_type": "markdown",
   "metadata": {},
   "source": [
    "Create new view in `views.py`:"
   ]
  },
  {
   "cell_type": "code",
   "execution_count": null,
   "metadata": {},
   "outputs": [],
   "source": [
    "def ex02_post_detail(request, id):\n",
    "    post = Post.objects.get(pk=id)\n",
    "    context = {\n",
    "        'post': post\n",
    "    }\n",
    "    return render(\n",
    "        request,\n",
    "        'chp04/ex02_post_detail.html',\n",
    "        context\n",
    "    )"
   ]
  },
  {
   "cell_type": "markdown",
   "metadata": {},
   "source": [
    "Add a new path in `urls.py`:"
   ]
  },
  {
   "cell_type": "code",
   "execution_count": null,
   "metadata": {},
   "outputs": [],
   "source": [
    "# ...\n",
    "\n",
    "urlpatterns = [\n",
    "    # ...\n",
    "    path( # NEW\n",
    "        'posts/<int:id>', # path parameter\n",
    "        views.ex02_post_detail,\n",
    "        name='ex02_post_detail'\n",
    "        ),\n",
    "]"
   ]
  },
  {
   "cell_type": "markdown",
   "metadata": {},
   "source": [
    "## Creating relationships\n",
    "\n",
    "Different types of relations:\n",
    "\n",
    "* one-to-one\n",
    "* one-to-many\n",
    "* many-to-many\n",
    "\n",
    "### one-to-one\n",
    "\n",
    "Example: User and user profile\n",
    "\n",
    "**One** user has only **one** profile,\n",
    "**one** profile belongs to **only one** user.\n",
    "\n",
    "### one-to-many\n",
    "\n",
    "Example: Author and comment\n",
    "\n",
    "**One** author writes **many** comments,\n",
    "but **one** comment belongs to **only one** author.\n",
    "\n",
    "### many-to-many\n",
    "\n",
    "Example: Posts and keywords\n",
    "\n",
    "**One** post has **many** keywords,\n",
    "**one** keyword belongs to **many** posts."
   ]
  },
  {
   "cell_type": "markdown",
   "metadata": {},
   "source": [
    "Create model `Category` in `models.py` **above** the `Post` model:"
   ]
  },
  {
   "cell_type": "code",
   "execution_count": null,
   "metadata": {},
   "outputs": [],
   "source": [
    "from django.db import models\n",
    "\n",
    "# Create your models here.\n",
    "\n",
    "class Category(models.Model):\n",
    "    title = models.CharField(max_length=100)\n",
    "\n",
    "# ..."
   ]
  },
  {
   "cell_type": "markdown",
   "metadata": {},
   "source": [
    "Register model in `admin.py`:"
   ]
  },
  {
   "cell_type": "code",
   "execution_count": null,
   "metadata": {},
   "outputs": [],
   "source": [
    "from django.contrib import admin\n",
    "\n",
    "from .models import Category, Post # NEW\n",
    "\n",
    "# Register your models here.\n",
    "\n",
    "admin.site.register(Category) # NEW\n",
    "admin.site.register(Post)"
   ]
  },
  {
   "cell_type": "markdown",
   "metadata": {},
   "source": [
    "Add relation `category` to model `Post`."
   ]
  },
  {
   "cell_type": "code",
   "execution_count": null,
   "metadata": {},
   "outputs": [],
   "source": [
    "# ...\n",
    "\n",
    "class Post(models.Model):\n",
    "    title = models.CharField(max_length=100)\n",
    "    text = models.TextField(max_length=1000)\n",
    "    category = models.ForeignKey(\n",
    "        Category,\n",
    "        on_delete=models.SET_NULL,\n",
    "        null=True, # allow empty category\n",
    "        )\n",
    "\n",
    "# ..."
   ]
  },
  {
   "cell_type": "markdown",
   "metadata": {},
   "source": [
    "Create and execute migrations:"
   ]
  },
  {
   "cell_type": "raw",
   "metadata": {
    "vscode": {
     "languageId": "raw"
    }
   },
   "source": [
    "$ python manage.py makemigrations chp04_models\n",
    "$ python manage.py migrate"
   ]
  }
 ],
 "metadata": {
  "kernelspec": {
   "display_name": ".venv",
   "language": "python",
   "name": "python3"
  },
  "language_info": {
   "codemirror_mode": {
    "name": "ipython",
    "version": 3
   },
   "file_extension": ".py",
   "mimetype": "text/x-python",
   "name": "python",
   "nbconvert_exporter": "python",
   "pygments_lexer": "ipython3",
   "version": "3.10.12"
  }
 },
 "nbformat": 4,
 "nbformat_minor": 2
}
